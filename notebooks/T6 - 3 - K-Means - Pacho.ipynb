{
 "cells": [
  {
   "cell_type": "markdown",
   "id": "92fcd722",
   "metadata": {},
   "source": [
    "# EL MÉTODO K-MEANS"
   ]
  },
  {
   "cell_type": "code",
   "execution_count": 1,
   "id": "25a3f7f6",
   "metadata": {},
   "outputs": [],
   "source": [
    "import numpy as np"
   ]
  },
  {
   "cell_type": "code",
   "execution_count": 2,
   "id": "19653bd2",
   "metadata": {},
   "outputs": [],
   "source": [
    "data = np.random.random(90).reshape(30,3)"
   ]
  },
  {
   "cell_type": "code",
   "execution_count": 3,
   "id": "2ef475e3",
   "metadata": {},
   "outputs": [
    {
     "data": {
      "text/plain": [
       "array([[0.75469865, 0.69381347, 0.57322157],\n",
       "       [0.36659115, 0.44780359, 0.62412276],\n",
       "       [0.20436113, 0.85137581, 0.00396488],\n",
       "       [0.50554137, 0.22517778, 0.48803617],\n",
       "       [0.64662183, 0.51888014, 0.42731601],\n",
       "       [0.52677313, 0.51215839, 0.79858013],\n",
       "       [0.05330659, 0.57397133, 0.4218885 ],\n",
       "       [0.44913257, 0.83743219, 0.98993902],\n",
       "       [0.68474064, 0.80332356, 0.75874544],\n",
       "       [0.77986915, 0.40135223, 0.61668232],\n",
       "       [0.57470396, 0.68640756, 0.60171653],\n",
       "       [0.55409106, 0.5374147 , 0.57030792],\n",
       "       [0.21991806, 0.04423368, 0.33667296],\n",
       "       [0.0596798 , 0.24301892, 0.3670054 ],\n",
       "       [0.12390784, 0.31137133, 0.07098834],\n",
       "       [0.9984851 , 0.03206848, 0.88717499],\n",
       "       [0.06068288, 0.81112703, 0.8931389 ],\n",
       "       [0.5033285 , 0.98956601, 0.95793146],\n",
       "       [0.2424746 , 0.51802381, 0.95735229],\n",
       "       [0.68634145, 0.78814339, 0.05400411],\n",
       "       [0.37020486, 0.5753005 , 0.83211063],\n",
       "       [0.67245113, 0.79977193, 0.63799106],\n",
       "       [0.19002712, 0.21187411, 0.18705888],\n",
       "       [0.6052381 , 0.15397941, 0.48720036],\n",
       "       [0.5055175 , 0.398529  , 0.43029442],\n",
       "       [0.34868671, 0.78381854, 0.04958224],\n",
       "       [0.17641535, 0.57484332, 0.6271178 ],\n",
       "       [0.28729251, 0.83674   , 0.65042291],\n",
       "       [0.52009832, 0.81961024, 0.01284491],\n",
       "       [0.52689418, 0.05420914, 0.78036733]])"
      ]
     },
     "execution_count": 3,
     "metadata": {},
     "output_type": "execute_result"
    }
   ],
   "source": [
    "data"
   ]
  },
  {
   "cell_type": "code",
   "execution_count": 6,
   "id": "5f97eeba",
   "metadata": {},
   "outputs": [
    {
     "data": {
      "text/plain": [
       "array([[0.57470396, 0.68640756, 0.60171653],\n",
       "       [0.12390784, 0.31137133, 0.07098834]])"
      ]
     },
     "execution_count": 6,
     "metadata": {},
     "output_type": "execute_result"
    }
   ],
   "source": [
    "c1 = np.random.choice(range(len(data)))\n",
    "c2 = np.random.choice(range(len(data)))\n",
    "clust_centers = np.vstack([data[c1], data[c2]])\n",
    "clust_centers"
   ]
  },
  {
   "cell_type": "code",
   "execution_count": 7,
   "id": "7b4cd395",
   "metadata": {},
   "outputs": [],
   "source": [
    "from scipy.cluster.vq import vq"
   ]
  },
  {
   "cell_type": "code",
   "execution_count": 8,
   "id": "d73eaf7d",
   "metadata": {},
   "outputs": [
    {
     "data": {
      "text/plain": [
       "(array([0, 0, 1, 0, 0, 0, 1, 0, 0, 0, 0, 0, 1, 1, 1, 0, 0, 0, 0, 0, 0, 0,\n",
       "        1, 0, 0, 1, 0, 0, 0, 0]),\n",
       " array([0.18238667, 0.31740327, 0.55006338, 0.48004124, 0.25229577,\n",
       "        0.26723662, 0.44393042, 0.43507852, 0.2245785 , 0.3515299 ,\n",
       "        0.        , 0.15365632, 0.38880433, 0.31052116, 0.        ,\n",
       "        0.83020276, 0.60390365, 0.47316866, 0.51498177, 0.56815668,\n",
       "        0.32748451, 0.15401893, 0.16656478, 0.54545946, 0.34212041,\n",
       "        0.52363168, 0.4143979 , 0.32799008, 0.60621326, 0.6586932 ]))"
      ]
     },
     "execution_count": 8,
     "metadata": {},
     "output_type": "execute_result"
    }
   ],
   "source": [
    "vq(data, clust_centers)"
   ]
  },
  {
   "cell_type": "code",
   "execution_count": 9,
   "id": "2f5cda13",
   "metadata": {},
   "outputs": [],
   "source": [
    "from scipy.cluster.vq import kmeans"
   ]
  },
  {
   "cell_type": "code",
   "execution_count": 10,
   "id": "d410188c",
   "metadata": {},
   "outputs": [
    {
     "data": {
      "text/plain": [
       "(array([[0.51389277, 0.54323439, 0.69475095],\n",
       "        [0.26736967, 0.51415748, 0.16711225]]),\n",
       " 0.35843801683445)"
      ]
     },
     "execution_count": 10,
     "metadata": {},
     "output_type": "execute_result"
    }
   ],
   "source": [
    "kmeans(data, clust_centers)"
   ]
  },
  {
   "cell_type": "code",
   "execution_count": 11,
   "id": "ff412037",
   "metadata": {},
   "outputs": [
    {
     "data": {
      "text/plain": [
       "(array([[0.51389277, 0.54323439, 0.69475095],\n",
       "        [0.26736967, 0.51415748, 0.16711225]]),\n",
       " 0.35843801683445)"
      ]
     },
     "execution_count": 11,
     "metadata": {},
     "output_type": "execute_result"
    }
   ],
   "source": [
    "kmeans(data, 2)"
   ]
  },
  {
   "cell_type": "code",
   "execution_count": null,
   "id": "c63da14b",
   "metadata": {},
   "outputs": [],
   "source": []
  },
  {
   "cell_type": "code",
   "execution_count": null,
   "id": "e99e8e61",
   "metadata": {},
   "outputs": [],
   "source": []
  }
 ],
 "metadata": {
  "kernelspec": {
   "display_name": "Python 3",
   "language": "python",
   "name": "python3"
  },
  "language_info": {
   "codemirror_mode": {
    "name": "ipython",
    "version": 3
   },
   "file_extension": ".py",
   "mimetype": "text/x-python",
   "name": "python",
   "nbconvert_exporter": "python",
   "pygments_lexer": "ipython3",
   "version": "3.8.8"
  }
 },
 "nbformat": 4,
 "nbformat_minor": 5
}
