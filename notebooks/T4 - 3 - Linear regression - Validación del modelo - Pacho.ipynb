{
 "cells": [
  {
   "cell_type": "markdown",
   "id": "c626e815",
   "metadata": {},
   "source": [
    "# Dividir el dataset en conjunto de entrenamiento y de testing"
   ]
  },
  {
   "cell_type": "code",
   "execution_count": 15,
   "id": "7e7166b9",
   "metadata": {},
   "outputs": [],
   "source": [
    "import pandas as pd\n",
    "import numpy as np\n",
    "import matplotlib.pyplot as plt"
   ]
  },
  {
   "cell_type": "code",
   "execution_count": 28,
   "id": "abd153d5",
   "metadata": {},
   "outputs": [],
   "source": [
    "data = pd.read_csv(\"../datasets/ads/Advertising.csv\")\n"
   ]
  },
  {
   "cell_type": "code",
   "execution_count": 29,
   "id": "6f8ea454",
   "metadata": {},
   "outputs": [
    {
     "data": {
      "text/html": [
       "<div>\n",
       "<style scoped>\n",
       "    .dataframe tbody tr th:only-of-type {\n",
       "        vertical-align: middle;\n",
       "    }\n",
       "\n",
       "    .dataframe tbody tr th {\n",
       "        vertical-align: top;\n",
       "    }\n",
       "\n",
       "    .dataframe thead th {\n",
       "        text-align: right;\n",
       "    }\n",
       "</style>\n",
       "<table border=\"1\" class=\"dataframe\">\n",
       "  <thead>\n",
       "    <tr style=\"text-align: right;\">\n",
       "      <th></th>\n",
       "      <th>TV</th>\n",
       "      <th>Radio</th>\n",
       "      <th>Newspaper</th>\n",
       "      <th>Sales</th>\n",
       "    </tr>\n",
       "  </thead>\n",
       "  <tbody>\n",
       "    <tr>\n",
       "      <th>0</th>\n",
       "      <td>230.1</td>\n",
       "      <td>37.8</td>\n",
       "      <td>69.2</td>\n",
       "      <td>22.1</td>\n",
       "    </tr>\n",
       "    <tr>\n",
       "      <th>1</th>\n",
       "      <td>44.5</td>\n",
       "      <td>39.3</td>\n",
       "      <td>45.1</td>\n",
       "      <td>10.4</td>\n",
       "    </tr>\n",
       "    <tr>\n",
       "      <th>2</th>\n",
       "      <td>17.2</td>\n",
       "      <td>45.9</td>\n",
       "      <td>69.3</td>\n",
       "      <td>9.3</td>\n",
       "    </tr>\n",
       "    <tr>\n",
       "      <th>3</th>\n",
       "      <td>151.5</td>\n",
       "      <td>41.3</td>\n",
       "      <td>58.5</td>\n",
       "      <td>18.5</td>\n",
       "    </tr>\n",
       "    <tr>\n",
       "      <th>4</th>\n",
       "      <td>180.8</td>\n",
       "      <td>10.8</td>\n",
       "      <td>58.4</td>\n",
       "      <td>12.9</td>\n",
       "    </tr>\n",
       "  </tbody>\n",
       "</table>\n",
       "</div>"
      ],
      "text/plain": [
       "      TV  Radio  Newspaper  Sales\n",
       "0  230.1   37.8       69.2   22.1\n",
       "1   44.5   39.3       45.1   10.4\n",
       "2   17.2   45.9       69.3    9.3\n",
       "3  151.5   41.3       58.5   18.5\n",
       "4  180.8   10.8       58.4   12.9"
      ]
     },
     "execution_count": 29,
     "metadata": {},
     "output_type": "execute_result"
    }
   ],
   "source": [
    "data.head()"
   ]
  },
  {
   "cell_type": "code",
   "execution_count": null,
   "id": "d123d0fa",
   "metadata": {},
   "outputs": [],
   "source": []
  },
  {
   "cell_type": "code",
   "execution_count": 17,
   "id": "519af33d",
   "metadata": {},
   "outputs": [],
   "source": [
    "a = np.random.randn(len(data))"
   ]
  },
  {
   "cell_type": "code",
   "execution_count": 18,
   "id": "522791c2",
   "metadata": {},
   "outputs": [
    {
     "data": {
      "text/plain": [
       "(array([ 4., 15., 14., 31., 42., 31., 34., 13., 11.,  5.]),\n",
       " array([-2.26692714, -1.82163207, -1.37633701, -0.93104194, -0.48574688,\n",
       "        -0.04045181,  0.40484325,  0.85013832,  1.29543338,  1.74072845,\n",
       "         2.18602351]),\n",
       " <BarContainer object of 10 artists>)"
      ]
     },
     "execution_count": 18,
     "metadata": {},
     "output_type": "execute_result"
    },
    {
     "data": {
      "image/png": "[encoded data removed]",
      "text/plain": [
       "<Figure size 432x288 with 1 Axes>"
      ]
     },
     "metadata": {
      "needs_background": "light"
     },
     "output_type": "display_data"
    }
   ],
   "source": [
    "plt.hist(a)"
   ]
  },
  {
   "cell_type": "code",
   "execution_count": 19,
   "id": "7abf2103",
   "metadata": {},
   "outputs": [],
   "source": [
    "check = (a<0.8)\n",
    "training = data[check]\n",
    "testing = data[~check]"
   ]
  },
  {
   "cell_type": "code",
   "execution_count": 20,
   "id": "a114638e",
   "metadata": {},
   "outputs": [
    {
     "data": {
      "text/plain": [
       "(170, 30)"
      ]
     },
     "execution_count": 20,
     "metadata": {},
     "output_type": "execute_result"
    }
   ],
   "source": [
    "len(training), len(testing)"
   ]
  },
  {
   "cell_type": "code",
   "execution_count": 21,
   "id": "c472018d",
   "metadata": {},
   "outputs": [],
   "source": [
    "import statsmodels.formula.api as smf\n",
    "lm = smf.ols(formula=\"Sales~TV+Radio\", data = training).fit()"
   ]
  },
  {
   "cell_type": "code",
   "execution_count": 22,
   "id": "7285578e",
   "metadata": {},
   "outputs": [
    {
     "data": {
      "text/html": [
       "<table class=\"simpletable\">\n",
       "<caption>OLS Regression Results</caption>\n",
       "<tr>\n",
       "  <th>Dep. Variable:</th>          <td>Sales</td>      <th>  R-squared:         </th> <td>   0.901</td>\n",
       "</tr>\n",
       "<tr>\n",
       "  <th>Model:</th>                   <td>OLS</td>       <th>  Adj. R-squared:    </th> <td>   0.900</td>\n",
       "</tr>\n",
       "<tr>\n",
       "  <th>Method:</th>             <td>Least Squares</td>  <th>  F-statistic:       </th> <td>   760.0</td>\n",
       "</tr>\n",
       "<tr>\n",
       "  <th>Date:</th>             <td>Mon, 17 May 2021</td> <th>  Prob (F-statistic):</th> <td>1.36e-84</td>\n",
       "</tr>\n",
       "<tr>\n",
       "  <th>Time:</th>                 <td>18:15:08</td>     <th>  Log-Likelihood:    </th> <td> -327.09</td>\n",
       "</tr>\n",
       "<tr>\n",
       "  <th>No. Observations:</th>      <td>   170</td>      <th>  AIC:               </th> <td>   660.2</td>\n",
       "</tr>\n",
       "<tr>\n",
       "  <th>Df Residuals:</th>          <td>   167</td>      <th>  BIC:               </th> <td>   669.6</td>\n",
       "</tr>\n",
       "<tr>\n",
       "  <th>Df Model:</th>              <td>     2</td>      <th>                     </th>     <td> </td>   \n",
       "</tr>\n",
       "<tr>\n",
       "  <th>Covariance Type:</th>      <td>nonrobust</td>    <th>                     </th>     <td> </td>   \n",
       "</tr>\n",
       "</table>\n",
       "<table class=\"simpletable\">\n",
       "<tr>\n",
       "      <td></td>         <th>coef</th>     <th>std err</th>      <th>t</th>      <th>P>|t|</th>  <th>[0.025</th>    <th>0.975]</th>  \n",
       "</tr>\n",
       "<tr>\n",
       "  <th>Intercept</th> <td>    2.9238</td> <td>    0.317</td> <td>    9.226</td> <td> 0.000</td> <td>    2.298</td> <td>    3.549</td>\n",
       "</tr>\n",
       "<tr>\n",
       "  <th>TV</th>        <td>    0.0460</td> <td>    0.002</td> <td>   30.327</td> <td> 0.000</td> <td>    0.043</td> <td>    0.049</td>\n",
       "</tr>\n",
       "<tr>\n",
       "  <th>Radio</th>     <td>    0.1883</td> <td>    0.009</td> <td>   21.531</td> <td> 0.000</td> <td>    0.171</td> <td>    0.206</td>\n",
       "</tr>\n",
       "</table>\n",
       "<table class=\"simpletable\">\n",
       "<tr>\n",
       "  <th>Omnibus:</th>       <td>65.815</td> <th>  Durbin-Watson:     </th> <td>   2.399</td>\n",
       "</tr>\n",
       "<tr>\n",
       "  <th>Prob(Omnibus):</th> <td> 0.000</td> <th>  Jarque-Bera (JB):  </th> <td> 198.923</td>\n",
       "</tr>\n",
       "<tr>\n",
       "  <th>Skew:</th>          <td>-1.571</td> <th>  Prob(JB):          </th> <td>6.37e-44</td>\n",
       "</tr>\n",
       "<tr>\n",
       "  <th>Kurtosis:</th>      <td> 7.268</td> <th>  Cond. No.          </th> <td>    425.</td>\n",
       "</tr>\n",
       "</table><br/><br/>Notes:<br/>[1] Standard Errors assume that the covariance matrix of the errors is correctly specified."
      ],
      "text/plain": [
       "<class 'statsmodels.iolib.summary.Summary'>\n",
       "\"\"\"\n",
       "                            OLS Regression Results                            \n",
       "==============================================================================\n",
       "Dep. Variable:                  Sales   R-squared:                       0.901\n",
       "Model:                            OLS   Adj. R-squared:                  0.900\n",
       "Method:                 Least Squares   F-statistic:                     760.0\n",
       "Date:                Mon, 17 May 2021   Prob (F-statistic):           1.36e-84\n",
       "Time:                        18:15:08   Log-Likelihood:                -327.09\n",
       "No. Observations:                 170   AIC:                             660.2\n",
       "Df Residuals:                     167   BIC:                             669.6\n",
       "Df Model:                           2                                         \n",
       "Covariance Type:            nonrobust                                         \n",
       "==============================================================================\n",
       "                 coef    std err          t      P>|t|      [0.025      0.975]\n",
       "------------------------------------------------------------------------------\n",
       "Intercept      2.9238      0.317      9.226      0.000       2.298       3.549\n",
       "TV             0.0460      0.002     30.327      0.000       0.043       0.049\n",
       "Radio          0.1883      0.009     21.531      0.000       0.171       0.206\n",
       "==============================================================================\n",
       "Omnibus:                       65.815   Durbin-Watson:                   2.399\n",
       "Prob(Omnibus):                  0.000   Jarque-Bera (JB):              198.923\n",
       "Skew:                          -1.571   Prob(JB):                     6.37e-44\n",
       "Kurtosis:                       7.268   Cond. No.                         425.\n",
       "==============================================================================\n",
       "\n",
       "Notes:\n",
       "[1] Standard Errors assume that the covariance matrix of the errors is correctly specified.\n",
       "\"\"\""
      ]
     },
     "execution_count": 22,
     "metadata": {},
     "output_type": "execute_result"
    }
   ],
   "source": [
    "lm.summary()"
   ]
  },
  {
   "cell_type": "markdown",
   "id": "8d6726a0",
   "metadata": {},
   "source": [
    "Sales = 2.9238 + 0.0460 * TV + 0.1883 * Radio"
   ]
  },
  {
   "cell_type": "markdown",
   "id": "8b96de0f",
   "metadata": {},
   "source": [
    "## Validación del modelo con el conjunto de testing\n"
   ]
  },
  {
   "cell_type": "code",
   "execution_count": 23,
   "id": "20347958",
   "metadata": {},
   "outputs": [
    {
     "data": {
      "text/plain": [
       "2      12.358285\n",
       "6      11.746844\n",
       "12     10.628542\n",
       "22      6.525331\n",
       "23     16.615738\n",
       "27     17.121292\n",
       "47     21.781771\n",
       "53     20.028950\n",
       "60      5.763255\n",
       "68     19.030571\n",
       "91      4.522838\n",
       "92     19.253445\n",
       "94     10.504063\n",
       "97     15.389827\n",
       "103    14.812415\n",
       "110    14.862495\n",
       "114    15.335880\n",
       "128    22.291690\n",
       "129     7.927006\n",
       "131    15.678314\n",
       "132     8.432083\n",
       "156    15.437259\n",
       "158    10.410449\n",
       "159    12.451205\n",
       "169    18.007444\n",
       "173    12.012967\n",
       "179    12.430121\n",
       "181    13.999217\n",
       "182     6.584236\n",
       "199    15.227833\n",
       "dtype: float64"
      ]
     },
     "execution_count": 23,
     "metadata": {},
     "output_type": "execute_result"
    }
   ],
   "source": [
    "sales_pred = lm.predict(testing)\n",
    "sales_pred"
   ]
  },
  {
   "cell_type": "code",
   "execution_count": 24,
   "id": "f4d932c3",
   "metadata": {},
   "outputs": [
    {
     "data": {
      "text/plain": [
       "90.68004842391328"
      ]
     },
     "execution_count": 24,
     "metadata": {},
     "output_type": "execute_result"
    }
   ],
   "source": [
    "SSD = sum((testing[\"Sales\"] - sales_pred)**2)\n",
    "SSD"
   ]
  },
  {
   "cell_type": "code",
   "execution_count": 26,
   "id": "a794f271",
   "metadata": {},
   "outputs": [
    {
     "data": {
      "text/plain": [
       "1.8326266155430537"
      ]
     },
     "execution_count": 26,
     "metadata": {},
     "output_type": "execute_result"
    }
   ],
   "source": [
    "RSE = np.sqrt(SSD/(len(testing)-2-1))   #ERROR STANDARD DE LOS RESIDUOS\n",
    "RSE\n"
   ]
  },
  {
   "cell_type": "code",
   "execution_count": 30,
   "id": "71c3e324",
   "metadata": {},
   "outputs": [
    {
     "data": {
      "text/plain": [
       "0.13848563845413506"
      ]
     },
     "execution_count": 30,
     "metadata": {},
     "output_type": "execute_result"
    }
   ],
   "source": [
    "sales_mean = np.mean(testing[\"Sales\"])\n",
    "error = RSE/sales_mean\n",
    "error\n"
   ]
  },
  {
   "cell_type": "code",
   "execution_count": null,
   "id": "19ca563f",
   "metadata": {},
   "outputs": [],
   "source": []
  },
  {
   "cell_type": "code",
   "execution_count": null,
   "id": "8975f2ad",
   "metadata": {},
   "outputs": [],
   "source": []
  }
 ],
 "metadata": {
  "kernelspec": {
   "display_name": "Python 3",
   "language": "python",
   "name": "python3"
  },
  "language_info": {
   "codemirror_mode": {
    "name": "ipython",
    "version": 3
   },
   "file_extension": ".py",
   "mimetype": "text/x-python",
   "name": "python",
   "nbconvert_exporter": "python",
   "pygments_lexer": "ipython3",
   "version": "3.8.8"
  }
 },
 "nbformat": 4,
 "nbformat_minor": 5
}
