{
 "cells": [
  {
   "cell_type": "markdown",
   "id": "2321b722",
   "metadata": {},
   "source": [
    "# Modelos de regresión lineal\n",
    "## Modelo con datos simulados \n",
    "* y = a + b * x\n",
    "* X : 100 valores distribuidos según N(1.5, 2.5)\n",
    "* Ye = 5 + 1.9 * x + e\n",
    "* e estará distribuido según una N(0,  0.8)\n",
    "\n"
   ]
  },
  {
   "cell_type": "code",
   "execution_count": 1,
   "id": "dd700a3c",
   "metadata": {},
   "outputs": [],
   "source": [
    "import pandas as pd\n",
    "import numpy as np\n"
   ]
  },
  {
   "cell_type": "code",
   "execution_count": 2,
   "id": "ff86a895",
   "metadata": {},
   "outputs": [],
   "source": [
    "x = 1.5 + 2.5 * np.random.randn(100)"
   ]
  },
  {
   "cell_type": "code",
   "execution_count": 3,
   "id": "1a2d1c12",
   "metadata": {},
   "outputs": [],
   "source": [
    "res = 0 + 0.8 * np.random.randn(100)"
   ]
  },
  {
   "cell_type": "code",
   "execution_count": 4,
   "id": "95b663d8",
   "metadata": {},
   "outputs": [],
   "source": [
    "y_pred = 5 + 1.9 * x "
   ]
  },
  {
   "cell_type": "code",
   "execution_count": 5,
   "id": "989c372d",
   "metadata": {},
   "outputs": [],
   "source": [
    "y_act = 5 + 1.9 * x - res"
   ]
  },
  {
   "cell_type": "code",
   "execution_count": 6,
   "id": "adbd2b20",
   "metadata": {},
   "outputs": [],
   "source": [
    "x_list = x.tolist()\n",
    "y_pred_list = y_pred.tolist()\n",
    "y_act_list = y_act.tolist()"
   ]
  },
  {
   "cell_type": "code",
   "execution_count": 7,
   "id": "763e7de0",
   "metadata": {},
   "outputs": [],
   "source": [
    "data = pd.DataFrame(\n",
    "    {\n",
    "        \"x\":x_list,\n",
    "        \"y_actual\":y_act_list,\n",
    "        \"y_prediccion\":y_pred_list\n",
    "    }\n",
    "\n",
    ")"
   ]
  },
  {
   "cell_type": "code",
   "execution_count": 8,
   "id": "2b2c0899",
   "metadata": {},
   "outputs": [
    {
     "data": {
      "text/html": [
       "<div>\n",
       "<style scoped>\n",
       "    .dataframe tbody tr th:only-of-type {\n",
       "        vertical-align: middle;\n",
       "    }\n",
       "\n",
       "    .dataframe tbody tr th {\n",
       "        vertical-align: top;\n",
       "    }\n",
       "\n",
       "    .dataframe thead th {\n",
       "        text-align: right;\n",
       "    }\n",
       "</style>\n",
       "<table border=\"1\" class=\"dataframe\">\n",
       "  <thead>\n",
       "    <tr style=\"text-align: right;\">\n",
       "      <th></th>\n",
       "      <th>x</th>\n",
       "      <th>y_actual</th>\n",
       "      <th>y_prediccion</th>\n",
       "    </tr>\n",
       "  </thead>\n",
       "  <tbody>\n",
       "    <tr>\n",
       "      <th>0</th>\n",
       "      <td>4.412830</td>\n",
       "      <td>12.599309</td>\n",
       "      <td>13.384377</td>\n",
       "    </tr>\n",
       "    <tr>\n",
       "      <th>1</th>\n",
       "      <td>1.535865</td>\n",
       "      <td>9.188936</td>\n",
       "      <td>7.918144</td>\n",
       "    </tr>\n",
       "    <tr>\n",
       "      <th>2</th>\n",
       "      <td>0.719579</td>\n",
       "      <td>6.428070</td>\n",
       "      <td>6.367201</td>\n",
       "    </tr>\n",
       "    <tr>\n",
       "      <th>3</th>\n",
       "      <td>3.667637</td>\n",
       "      <td>12.091346</td>\n",
       "      <td>11.968510</td>\n",
       "    </tr>\n",
       "    <tr>\n",
       "      <th>4</th>\n",
       "      <td>-1.630154</td>\n",
       "      <td>1.579963</td>\n",
       "      <td>1.902708</td>\n",
       "    </tr>\n",
       "  </tbody>\n",
       "</table>\n",
       "</div>"
      ],
      "text/plain": [
       "          x   y_actual  y_prediccion\n",
       "0  4.412830  12.599309     13.384377\n",
       "1  1.535865   9.188936      7.918144\n",
       "2  0.719579   6.428070      6.367201\n",
       "3  3.667637  12.091346     11.968510\n",
       "4 -1.630154   1.579963      1.902708"
      ]
     },
     "execution_count": 8,
     "metadata": {},
     "output_type": "execute_result"
    }
   ],
   "source": [
    "data.head()"
   ]
  },
  {
   "cell_type": "code",
   "execution_count": 9,
   "id": "f4005bcf",
   "metadata": {},
   "outputs": [],
   "source": [
    "import matplotlib.pyplot as plt"
   ]
  },
  {
   "cell_type": "code",
   "execution_count": 10,
   "id": "0a760b18",
   "metadata": {},
   "outputs": [],
   "source": [
    "y_mean = [np.mean(y_act) for i in range(1, len(x_list) + 1)]"
   ]
  },
  {
   "cell_type": "code",
   "execution_count": null,
   "id": "64031cbf",
   "metadata": {},
   "outputs": [],
   "source": []
  },
  {
   "cell_type": "code",
   "execution_count": 11,
   "id": "53bee111",
   "metadata": {},
   "outputs": [
    {
     "data": {
      "text/plain": [
       "Text(0.5, 1.0, 'Valor Actual Vs Predicción')"
      ]
     },
     "execution_count": 11,
     "metadata": {},
     "output_type": "execute_result"
    },
    {
     "data": {
      "image/png": "[encoded data removed]",
      "text/plain": [
       "<Figure size 432x288 with 1 Axes>"
      ]
     },
     "metadata": {
      "needs_background": "light"
     },
     "output_type": "display_data"
    }
   ],
   "source": [
    "%matplotlib inline\n",
    "plt.plot(x,y_pred)\n",
    "plt.plot(x,y_act, \"ro\")\n",
    "plt.plot(x,y_mean, \"g\")\n",
    "plt.title(\"Valor Actual Vs Predicción\")"
   ]
  },
  {
   "cell_type": "code",
   "execution_count": 12,
   "id": "8d6ceda2",
   "metadata": {},
   "outputs": [],
   "source": [
    "y_m = np.mean(y_act)\n",
    "data[\"SSR\"]=(data[\"y_prediccion\"]-y_m)**2\n",
    "data[\"SSD\"]=(data[\"y_prediccion\"]-data[\"y_actual\"])**2\n",
    "data[\"SST\"]=(data[\"y_actual\"]-y_m)**2"
   ]
  },
  {
   "cell_type": "code",
   "execution_count": 13,
   "id": "7542e75a",
   "metadata": {},
   "outputs": [
    {
     "data": {
      "text/html": [
       "<div>\n",
       "<style scoped>\n",
       "    .dataframe tbody tr th:only-of-type {\n",
       "        vertical-align: middle;\n",
       "    }\n",
       "\n",
       "    .dataframe tbody tr th {\n",
       "        vertical-align: top;\n",
       "    }\n",
       "\n",
       "    .dataframe thead th {\n",
       "        text-align: right;\n",
       "    }\n",
       "</style>\n",
       "<table border=\"1\" class=\"dataframe\">\n",
       "  <thead>\n",
       "    <tr style=\"text-align: right;\">\n",
       "      <th></th>\n",
       "      <th>x</th>\n",
       "      <th>y_actual</th>\n",
       "      <th>y_prediccion</th>\n",
       "      <th>SSR</th>\n",
       "      <th>SSD</th>\n",
       "      <th>SST</th>\n",
       "    </tr>\n",
       "  </thead>\n",
       "  <tbody>\n",
       "    <tr>\n",
       "      <th>0</th>\n",
       "      <td>4.412830</td>\n",
       "      <td>12.599309</td>\n",
       "      <td>13.384377</td>\n",
       "      <td>31.087992</td>\n",
       "      <td>0.616331</td>\n",
       "      <td>22.949781</td>\n",
       "    </tr>\n",
       "    <tr>\n",
       "      <th>1</th>\n",
       "      <td>1.535865</td>\n",
       "      <td>9.188936</td>\n",
       "      <td>7.918144</td>\n",
       "      <td>0.011974</td>\n",
       "      <td>1.614913</td>\n",
       "      <td>1.905007</td>\n",
       "    </tr>\n",
       "    <tr>\n",
       "      <th>2</th>\n",
       "      <td>0.719579</td>\n",
       "      <td>6.428070</td>\n",
       "      <td>6.367201</td>\n",
       "      <td>2.077967</td>\n",
       "      <td>0.003705</td>\n",
       "      <td>1.906184</td>\n",
       "    </tr>\n",
       "    <tr>\n",
       "      <th>3</th>\n",
       "      <td>3.667637</td>\n",
       "      <td>12.091346</td>\n",
       "      <td>11.968510</td>\n",
       "      <td>17.303882</td>\n",
       "      <td>0.015089</td>\n",
       "      <td>18.340919</td>\n",
       "    </tr>\n",
       "    <tr>\n",
       "      <th>4</th>\n",
       "      <td>-1.630154</td>\n",
       "      <td>1.579963</td>\n",
       "      <td>1.902708</td>\n",
       "      <td>34.880930</td>\n",
       "      <td>0.104165</td>\n",
       "      <td>38.797371</td>\n",
       "    </tr>\n",
       "  </tbody>\n",
       "</table>\n",
       "</div>"
      ],
      "text/plain": [
       "          x   y_actual  y_prediccion        SSR       SSD        SST\n",
       "0  4.412830  12.599309     13.384377  31.087992  0.616331  22.949781\n",
       "1  1.535865   9.188936      7.918144   0.011974  1.614913   1.905007\n",
       "2  0.719579   6.428070      6.367201   2.077967  0.003705   1.906184\n",
       "3  3.667637  12.091346     11.968510  17.303882  0.015089  18.340919\n",
       "4 -1.630154   1.579963      1.902708  34.880930  0.104165  38.797371"
      ]
     },
     "execution_count": 13,
     "metadata": {},
     "output_type": "execute_result"
    }
   ],
   "source": [
    "data.head()"
   ]
  },
  {
   "cell_type": "code",
   "execution_count": 14,
   "id": "9fe79a53",
   "metadata": {},
   "outputs": [],
   "source": [
    "SSR = sum(data[\"SSR\"])\n",
    "SSD = sum(data[\"SSD\"])\n",
    "SST = sum(data[\"SST\"])"
   ]
  },
  {
   "cell_type": "code",
   "execution_count": 15,
   "id": "b23fc909",
   "metadata": {},
   "outputs": [
    {
     "data": {
      "text/plain": [
       "1851.9833732787752"
      ]
     },
     "execution_count": 15,
     "metadata": {},
     "output_type": "execute_result"
    }
   ],
   "source": [
    "SSR"
   ]
  },
  {
   "cell_type": "code",
   "execution_count": 16,
   "id": "6210c127",
   "metadata": {},
   "outputs": [
    {
     "data": {
      "text/plain": [
       "59.6404713782315"
      ]
     },
     "execution_count": 16,
     "metadata": {},
     "output_type": "execute_result"
    }
   ],
   "source": [
    "SSD"
   ]
  },
  {
   "cell_type": "code",
   "execution_count": 17,
   "id": "36641c9d",
   "metadata": {},
   "outputs": [
    {
     "data": {
      "text/plain": [
       "1983.313984894066"
      ]
     },
     "execution_count": 17,
     "metadata": {},
     "output_type": "execute_result"
    }
   ],
   "source": [
    "SST"
   ]
  },
  {
   "cell_type": "code",
   "execution_count": 18,
   "id": "bb4a378b",
   "metadata": {},
   "outputs": [
    {
     "data": {
      "text/plain": [
       "1911.6238446570067"
      ]
     },
     "execution_count": 18,
     "metadata": {},
     "output_type": "execute_result"
    }
   ],
   "source": [
    "SSR+SSD"
   ]
  },
  {
   "cell_type": "code",
   "execution_count": 19,
   "id": "4ff0f125",
   "metadata": {},
   "outputs": [],
   "source": [
    "R2 = SSR/SST"
   ]
  },
  {
   "cell_type": "code",
   "execution_count": 20,
   "id": "56b56223",
   "metadata": {},
   "outputs": [
    {
     "data": {
      "text/plain": [
       "0.9337822389114523"
      ]
     },
     "execution_count": 20,
     "metadata": {},
     "output_type": "execute_result"
    }
   ],
   "source": [
    "R2"
   ]
  },
  {
   "cell_type": "code",
   "execution_count": 21,
   "id": "f72d4b41",
   "metadata": {},
   "outputs": [
    {
     "data": {
      "text/plain": [
       "(array([ 5.,  8., 13., 15., 25., 16., 13.,  2.,  2.,  1.]),\n",
       " array([-1.7925026 , -1.38635212, -0.98020163, -0.57405114, -0.16790065,\n",
       "         0.23824984,  0.64440033,  1.05055082,  1.45670131,  1.8628518 ,\n",
       "         2.26900229]),\n",
       " <BarContainer object of 10 artists>)"
      ]
     },
     "execution_count": 21,
     "metadata": {},
     "output_type": "execute_result"
    },
    {
     "data": {
      "image/png": "[encoded data removed]",
      "text/plain": [
       "<Figure size 432x288 with 1 Axes>"
      ]
     },
     "metadata": {
      "needs_background": "light"
     },
     "output_type": "display_data"
    }
   ],
   "source": [
    "plt.hist(data[\"y_prediccion\"]-data[\"y_actual\"])"
   ]
  },
  {
   "cell_type": "markdown",
   "id": "68b7d18a",
   "metadata": {},
   "source": [
    "## Obteniendo la recta de regresión\n",
    "\n",
    "* b= sum((xi - x_m) * (yi-y_m))/sum((xi-x_m)^2)\n",
    "* a= y_m - b * x_m"
   ]
  },
  {
   "cell_type": "code",
   "execution_count": 22,
   "id": "12d3826d",
   "metadata": {},
   "outputs": [
    {
     "data": {
      "text/plain": [
       "(1.4368884982972225, 7.808716285028534)"
      ]
     },
     "execution_count": 22,
     "metadata": {},
     "output_type": "execute_result"
    }
   ],
   "source": [
    "x_mean = np.mean(data[\"x\"])\n",
    "y_mean = np.mean(data[\"y_actual\"])\n",
    "x_mean, y_mean"
   ]
  },
  {
   "cell_type": "code",
   "execution_count": 23,
   "id": "8d10b4db",
   "metadata": {},
   "outputs": [],
   "source": [
    "data[\"beta_n\"] = (data[\"x\"]-x_mean)*(data[\"y_actual\"]-y_mean)\n",
    "data[\"beta_d\"] = (data[\"x\"]-x_mean)**2\n"
   ]
  },
  {
   "cell_type": "code",
   "execution_count": 24,
   "id": "fd2e468e",
   "metadata": {},
   "outputs": [],
   "source": [
    "beta = sum(data[\"beta_n\"])/sum(data[\"beta_d\"])"
   ]
  },
  {
   "cell_type": "code",
   "execution_count": 25,
   "id": "db018582",
   "metadata": {},
   "outputs": [],
   "source": [
    "alpha = y_mean - beta * x_mean"
   ]
  },
  {
   "cell_type": "code",
   "execution_count": 26,
   "id": "44589683",
   "metadata": {},
   "outputs": [
    {
     "data": {
      "text/plain": [
       "(5.02485806096348, 1.9374211898585385)"
      ]
     },
     "execution_count": 26,
     "metadata": {},
     "output_type": "execute_result"
    }
   ],
   "source": [
    "alpha, beta"
   ]
  },
  {
   "cell_type": "markdown",
   "id": "ad1bd66c",
   "metadata": {},
   "source": [
    "El modelo lineal obtenido por regresión  es: y = 4.963222962297018 + 1.8696337291101064 * x"
   ]
  },
  {
   "cell_type": "code",
   "execution_count": 27,
   "id": "0c735802",
   "metadata": {},
   "outputs": [],
   "source": [
    "data[\"y_model\"] = alpha + beta * data[\"x\"]"
   ]
  },
  {
   "cell_type": "code",
   "execution_count": 28,
   "id": "448bff73",
   "metadata": {},
   "outputs": [
    {
     "data": {
      "text/html": [
       "<div>\n",
       "<style scoped>\n",
       "    .dataframe tbody tr th:only-of-type {\n",
       "        vertical-align: middle;\n",
       "    }\n",
       "\n",
       "    .dataframe tbody tr th {\n",
       "        vertical-align: top;\n",
       "    }\n",
       "\n",
       "    .dataframe thead th {\n",
       "        text-align: right;\n",
       "    }\n",
       "</style>\n",
       "<table border=\"1\" class=\"dataframe\">\n",
       "  <thead>\n",
       "    <tr style=\"text-align: right;\">\n",
       "      <th></th>\n",
       "      <th>x</th>\n",
       "      <th>y_actual</th>\n",
       "      <th>y_prediccion</th>\n",
       "      <th>SSR</th>\n",
       "      <th>SSD</th>\n",
       "      <th>SST</th>\n",
       "      <th>beta_n</th>\n",
       "      <th>beta_d</th>\n",
       "      <th>y_model</th>\n",
       "    </tr>\n",
       "  </thead>\n",
       "  <tbody>\n",
       "    <tr>\n",
       "      <th>0</th>\n",
       "      <td>4.412830</td>\n",
       "      <td>12.599309</td>\n",
       "      <td>13.384377</td>\n",
       "      <td>31.087992</td>\n",
       "      <td>0.616331</td>\n",
       "      <td>22.949781</td>\n",
       "      <td>14.256524</td>\n",
       "      <td>8.856228</td>\n",
       "      <td>13.574368</td>\n",
       "    </tr>\n",
       "    <tr>\n",
       "      <th>1</th>\n",
       "      <td>1.535865</td>\n",
       "      <td>9.188936</td>\n",
       "      <td>7.918144</td>\n",
       "      <td>0.011974</td>\n",
       "      <td>1.614913</td>\n",
       "      <td>1.905007</td>\n",
       "      <td>0.136610</td>\n",
       "      <td>0.009796</td>\n",
       "      <td>8.000476</td>\n",
       "    </tr>\n",
       "    <tr>\n",
       "      <th>2</th>\n",
       "      <td>0.719579</td>\n",
       "      <td>6.428070</td>\n",
       "      <td>6.367201</td>\n",
       "      <td>2.077967</td>\n",
       "      <td>0.003705</td>\n",
       "      <td>1.906184</td>\n",
       "      <td>0.990350</td>\n",
       "      <td>0.514532</td>\n",
       "      <td>6.418986</td>\n",
       "    </tr>\n",
       "    <tr>\n",
       "      <th>3</th>\n",
       "      <td>3.667637</td>\n",
       "      <td>12.091346</td>\n",
       "      <td>11.968510</td>\n",
       "      <td>17.303882</td>\n",
       "      <td>0.015089</td>\n",
       "      <td>18.340919</td>\n",
       "      <td>9.553469</td>\n",
       "      <td>4.976238</td>\n",
       "      <td>12.130615</td>\n",
       "    </tr>\n",
       "    <tr>\n",
       "      <th>4</th>\n",
       "      <td>-1.630154</td>\n",
       "      <td>1.579963</td>\n",
       "      <td>1.902708</td>\n",
       "      <td>34.880930</td>\n",
       "      <td>0.104165</td>\n",
       "      <td>38.797371</td>\n",
       "      <td>19.103849</td>\n",
       "      <td>9.406747</td>\n",
       "      <td>1.866564</td>\n",
       "    </tr>\n",
       "  </tbody>\n",
       "</table>\n",
       "</div>"
      ],
      "text/plain": [
       "          x   y_actual  y_prediccion        SSR       SSD        SST  \\\n",
       "0  4.412830  12.599309     13.384377  31.087992  0.616331  22.949781   \n",
       "1  1.535865   9.188936      7.918144   0.011974  1.614913   1.905007   \n",
       "2  0.719579   6.428070      6.367201   2.077967  0.003705   1.906184   \n",
       "3  3.667637  12.091346     11.968510  17.303882  0.015089  18.340919   \n",
       "4 -1.630154   1.579963      1.902708  34.880930  0.104165  38.797371   \n",
       "\n",
       "      beta_n    beta_d    y_model  \n",
       "0  14.256524  8.856228  13.574368  \n",
       "1   0.136610  0.009796   8.000476  \n",
       "2   0.990350  0.514532   6.418986  \n",
       "3   9.553469  4.976238  12.130615  \n",
       "4  19.103849  9.406747   1.866564  "
      ]
     },
     "execution_count": 28,
     "metadata": {},
     "output_type": "execute_result"
    }
   ],
   "source": [
    "data.head()"
   ]
  },
  {
   "cell_type": "code",
   "execution_count": 29,
   "id": "1d7dc5e5",
   "metadata": {},
   "outputs": [],
   "source": [
    "SSR = sum((data[\"y_model\"]-y_mean)**2)\n",
    "SSD = sum((data[\"y_model\"]-data[\"y_actual\"])**2)\n",
    "SST = sum((data[\"y_actual\"]-y_mean)**2)"
   ]
  },
  {
   "cell_type": "code",
   "execution_count": 30,
   "id": "fd5c36a5",
   "metadata": {},
   "outputs": [
    {
     "data": {
      "text/plain": [
       "(1925.0099100292623, 58.30407486480242, 1983.313984894066)"
      ]
     },
     "execution_count": 30,
     "metadata": {},
     "output_type": "execute_result"
    }
   ],
   "source": [
    "SSR, SSD, SST"
   ]
  },
  {
   "cell_type": "code",
   "execution_count": 31,
   "id": "8442cdf5",
   "metadata": {},
   "outputs": [
    {
     "data": {
      "text/plain": [
       "0.9706027006773121"
      ]
     },
     "execution_count": 31,
     "metadata": {},
     "output_type": "execute_result"
    }
   ],
   "source": [
    "R2 = SSR / SST\n",
    "R2"
   ]
  },
  {
   "cell_type": "code",
   "execution_count": 32,
   "id": "64e1844e",
   "metadata": {},
   "outputs": [
    {
     "data": {
      "text/plain": [
       "Text(0.5, 1.0, 'Valor Actual Vs Predicción')"
      ]
     },
     "execution_count": 32,
     "metadata": {},
     "output_type": "execute_result"
    },
    {
     "data": {
      "image/png": "[encoded data removed]",
      "text/plain": [
       "<Figure size 432x288 with 1 Axes>"
      ]
     },
     "metadata": {
      "needs_background": "light"
     },
     "output_type": "display_data"
    }
   ],
   "source": [
    "y_mean = [np.mean(y_act) for i in range(1, len(x_list) + 1)]\n",
    "\n",
    "%matplotlib inline\n",
    "plt.plot(data[\"x\"],data[\"y_prediccion\"])\n",
    "plt.plot(data[\"x\"],data[\"y_actual\"], \"ro\")\n",
    "plt.plot(data[\"x\"],y_mean, \"g\")\n",
    "plt.plot(data[\"x\"],data[\"y_model\"])\n",
    "plt.title(\"Valor Actual Vs Predicción\")"
   ]
  },
  {
   "cell_type": "markdown",
   "id": "79e5af4a",
   "metadata": {},
   "source": [
    "## Error estándar de los residuos (RSE)\n"
   ]
  },
  {
   "cell_type": "code",
   "execution_count": 33,
   "id": "485aa865",
   "metadata": {},
   "outputs": [
    {
     "data": {
      "text/plain": [
       "0.7713232392692181"
      ]
     },
     "execution_count": 33,
     "metadata": {},
     "output_type": "execute_result"
    }
   ],
   "source": [
    "RSE =  np.sqrt(SSD/(len(data)-2))\n",
    "RSE"
   ]
  },
  {
   "cell_type": "code",
   "execution_count": 34,
   "id": "a92474c9",
   "metadata": {},
   "outputs": [
    {
     "data": {
      "text/plain": [
       "7.808716285028534"
      ]
     },
     "execution_count": 34,
     "metadata": {},
     "output_type": "execute_result"
    }
   ],
   "source": [
    "np.mean(data[\"y_actual\"])"
   ]
  },
  {
   "cell_type": "code",
   "execution_count": 35,
   "id": "0794191d",
   "metadata": {},
   "outputs": [
    {
     "data": {
      "text/plain": [
       "0.0987772139638442"
      ]
     },
     "execution_count": 35,
     "metadata": {},
     "output_type": "execute_result"
    }
   ],
   "source": [
    "RSE / np.mean(data[\"y_actual\"])"
   ]
  },
  {
   "cell_type": "code",
   "execution_count": null,
   "id": "0c3d9519",
   "metadata": {},
   "outputs": [],
   "source": []
  },
  {
   "cell_type": "code",
   "execution_count": null,
   "id": "3f09393e",
   "metadata": {},
   "outputs": [],
   "source": []
  },
  {
   "cell_type": "code",
   "execution_count": null,
   "id": "e28e95d9",
   "metadata": {},
   "outputs": [],
   "source": []
  },
  {
   "cell_type": "code",
   "execution_count": null,
   "id": "c01f7097",
   "metadata": {},
   "outputs": [],
   "source": []
  },
  {
   "cell_type": "code",
   "execution_count": null,
   "id": "9825613a",
   "metadata": {},
   "outputs": [],
   "source": []
  },
  {
   "cell_type": "code",
   "execution_count": null,
   "id": "292900f2",
   "metadata": {},
   "outputs": [],
   "source": []
  }
 ],
 "metadata": {
  "kernelspec": {
   "display_name": "Python 3 (ipykernel)",
   "language": "python",
   "name": "python3"
  },
  "language_info": {
   "codemirror_mode": {
    "name": "ipython",
    "version": 3
   },
   "file_extension": ".py",
   "mimetype": "text/x-python",
   "name": "python",
   "nbconvert_exporter": "python",
   "pygments_lexer": "ipython3",
   "version": "3.9.7"
  }
 },
 "nbformat": 4,
 "nbformat_minor": 5
}
